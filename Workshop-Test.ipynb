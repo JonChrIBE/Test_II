{
 "cells": [
  {
   "cell_type": "markdown",
   "id": "cbed2eef-3e5d-47d6-9350-ab25147ad648",
   "metadata": {},
   "source": [
    "# Importing Libraries"
   ]
  },
  {
   "cell_type": "code",
   "execution_count": 11,
   "id": "702a6fda-39d8-44a4-a0e5-06585e7e5813",
   "metadata": {},
   "outputs": [
    {
     "name": "stdout",
     "output_type": "stream",
     "text": [
      "\n",
      "Note: you may need to restart the kernel to use updated packages.\n"
     ]
    }
   ],
   "source": [
    "%conda env export > environment.yml"
   ]
  },
  {
   "cell_type": "code",
   "execution_count": 1,
   "id": "d0df2cf4",
   "metadata": {
    "tags": []
   },
   "outputs": [],
   "source": [
    "from IPython.display import display \n",
    "import ipywidgets as widgets \n",
    "from ipywidgets import interact, Layout "
   ]
  },
  {
   "cell_type": "code",
   "execution_count": 2,
   "id": "ef3132be",
   "metadata": {
    "tags": []
   },
   "outputs": [
    {
     "data": {
      "application/vnd.jupyter.widget-view+json": {
       "model_id": "f9ce816ad6e641db90b0fa30b84ff8da",
       "version_major": 2,
       "version_minor": 0
      },
      "text/plain": [
       "IntSlider(value=7, description='IntSlider:', max=10)"
      ]
     },
     "execution_count": 2,
     "metadata": {},
     "output_type": "execute_result"
    }
   ],
   "source": [
    "from ipywidgets import IntSlider \n",
    "IntSlider(value=7,min=0,max=10,step=1,\n",
    "          description='IntSlider:',orientation='horizontal')"
   ]
  },
  {
   "cell_type": "code",
   "execution_count": 3,
   "id": "531d3b4a",
   "metadata": {
    "tags": []
   },
   "outputs": [
    {
     "data": {
      "application/vnd.jupyter.widget-view+json": {
       "model_id": "c101e67c938c482782a2de1a5ddeced8",
       "version_major": 2,
       "version_minor": 0
      },
      "text/plain": [
       "Text(value='Text eingeben', description='Text-Widget: ')"
      ]
     },
     "metadata": {},
     "output_type": "display_data"
    },
    {
     "data": {
      "application/vnd.jupyter.widget-view+json": {
       "model_id": "63d0d2fe76dd419e8303079e53e599b9",
       "version_major": 2,
       "version_minor": 0
      },
      "text/plain": [
       "IntSlider(value=7, description='IntSlider: ', max=10)"
      ]
     },
     "metadata": {},
     "output_type": "display_data"
    },
    {
     "data": {
      "application/vnd.jupyter.widget-view+json": {
       "model_id": "ed717f61807c4134b0b9c90743745300",
       "version_major": 2,
       "version_minor": 0
      },
      "text/plain": [
       "Dropdown(description='Dropdown: ', index=1, options=('1', '2', '3'), value='2')"
      ]
     },
     "metadata": {},
     "output_type": "display_data"
    }
   ],
   "source": [
    "from ipywidgets import Text, IntSlider, Dropdown\n",
    "# Erstelle ein neues Text-Eingabefeld tb1 und zeige es an.\n",
    "tb1 = Text(value='Text eingeben', \n",
    "                   description='Text-Widget: ')\n",
    "display(tb1)\n",
    "# Erstelle IntSlider-Widget is1 und zeige es an.\n",
    "is1 = IntSlider(value=7, min=0, max=10, \n",
    "                        step=1, description='IntSlider: ')\n",
    "display(is1)\n",
    "# Erstelle Dropdown-Widget dd1 und zeige es an\n",
    "dd1 = Dropdown(options=['1', '2', '3'], \n",
    "                       value='2', description='Dropdown: ')\n",
    "display(dd1)"
   ]
  },
  {
   "cell_type": "code",
   "execution_count": 4,
   "id": "030ce6a2",
   "metadata": {
    "tags": []
   },
   "outputs": [
    {
     "data": {
      "application/vnd.jupyter.widget-view+json": {
       "model_id": "89a1fa61b43245eb8f9c9eee7b807d64",
       "version_major": 2,
       "version_minor": 0
      },
      "text/plain": [
       "Text(value='', description='a')"
      ]
     },
     "metadata": {},
     "output_type": "display_data"
    },
    {
     "data": {
      "application/vnd.jupyter.widget-view+json": {
       "model_id": "a99a43e1113749c0ab8209b8d7d4be93",
       "version_major": 2,
       "version_minor": 0
      },
      "text/plain": [
       "Text(value='', description='b')"
      ]
     },
     "metadata": {},
     "output_type": "display_data"
    },
    {
     "data": {
      "application/vnd.jupyter.widget-view+json": {
       "model_id": "1d8c72bb69074ebabd0d0e3f6da4b2c2",
       "version_major": 2,
       "version_minor": 0
      },
      "text/plain": [
       "Button(description='Calc!', layout=Layout(width='200px'), style=ButtonStyle(button_color='red'))"
      ]
     },
     "metadata": {},
     "output_type": "display_data"
    },
    {
     "data": {
      "application/vnd.jupyter.widget-view+json": {
       "model_id": "31ff00201c0e4b9682550159e0f6016b",
       "version_major": 2,
       "version_minor": 0
      },
      "text/plain": [
       "Text(value='', description='Summe')"
      ]
     },
     "metadata": {},
     "output_type": "display_data"
    }
   ],
   "source": [
    "import ipywidgets\n",
    "from ipywidgets import Text, Button\n",
    "# Erstelle zwei Text-Eingabefelder\n",
    "textbox1 = Text(description='a'); display(textbox1)\n",
    "textbox2 = Text(description='b');display(textbox2)\n",
    "# ... einen Button\n",
    "button = Button(description='Calc!', \n",
    "                        layout=Layout(width='200px'))\n",
    "button.style.button_color = 'red'\n",
    "display(button)\n",
    "# ... und ein Text-Ausgabefeld für die Summe\n",
    "textbox3 = Text(description='Summe')\n",
    "display(textbox3)\n",
    "# Definiere Eventhandler für den Button\n",
    "def on_button_clicked(sender):\n",
    "    a = int(textbox1.value)\n",
    "    b = int(textbox2.value)\n",
    "    textbox3.value = str(a+b)\n",
    "# ... und weise ihn dem on_click-Ereignis zu\n",
    "button.on_click(on_button_clicked)"
   ]
  },
  {
   "cell_type": "code",
   "execution_count": 5,
   "id": "05436812",
   "metadata": {
    "tags": []
   },
   "outputs": [
    {
     "data": {
      "application/vnd.jupyter.widget-view+json": {
       "model_id": "0331c032938c48e78c9786a45db0767a",
       "version_major": 2,
       "version_minor": 0
      },
      "text/plain": [
       "interactive(children=(Dropdown(description='x', options=(1, 2, 3), value=1), Output()), _dom_classes=('widget-…"
      ]
     },
     "metadata": {},
     "output_type": "display_data"
    }
   ],
   "source": [
    " # myfunc1 gibt einen Text aus, der von x abhängt \n",
    " def myfunc1(x):  \n",
    "     print('Auswahl: ' + str(x)) \n",
    " # interact erzeugt Dropdown-Widget \n",
    " interact(myfunc1, x = [1, 2, 3]); "
   ]
  },
  {
   "cell_type": "code",
   "execution_count": 6,
   "id": "07d6881b",
   "metadata": {
    "tags": []
   },
   "outputs": [
    {
     "data": {
      "application/vnd.jupyter.widget-view+json": {
       "model_id": "ccc29a748b4e427a9c9ce17186bb3f4f",
       "version_major": 2,
       "version_minor": 0
      },
      "text/plain": [
       "interactive(children=(Text(value='Text eingeben', description='x'), Output()), _dom_classes=('widget-interact'…"
      ]
     },
     "metadata": {},
     "output_type": "display_data"
    }
   ],
   "source": [
    " # myfunc2 gibt den eingegebenen Text aus \n",
    " def myfunc2(x):  \n",
    "     print('Ihre Eingabe: ' + str(x)) \n",
    " interact(myfunc2, x = 'Text eingeben'); "
   ]
  },
  {
   "cell_type": "code",
   "execution_count": 7,
   "id": "ca0237a4",
   "metadata": {
    "tags": []
   },
   "outputs": [
    {
     "data": {
      "application/vnd.jupyter.widget-view+json": {
       "model_id": "6337bb2231e2412d9513c0dd07fde9e5",
       "version_major": 2,
       "version_minor": 0
      },
      "text/plain": [
       "interactive(children=(FloatSlider(value=7.0685834705770345, description='xmax', max=12.566370614359172, min=1.…"
      ]
     },
     "metadata": {},
     "output_type": "display_data"
    }
   ],
   "source": [
    " import matplotlib.pyplot as plt \n",
    " from numpy import arange,sin,pi \n",
    " # Definiere myplot-Funktion  \n",
    " def myplot(xmax): \n",
    "     x = arange(0, xmax, 0.01);y = sin(2*pi*x); \n",
    "     plt.plot(x,y); \n",
    " # Erstelle ein Widget für den Plot mit Hilfe von interact \n",
    " interact(myplot, xmax = (pi/2,4*pi)); "
   ]
  },
  {
   "cell_type": "code",
   "execution_count": 8,
   "id": "a3214f57",
   "metadata": {
    "tags": []
   },
   "outputs": [],
   "source": [
    "import pandas as pd\n",
    "def display_dataframe(df, rows=6, cols=6):\n",
    "    with pd.option_context('display.max_rows', rows, \n",
    "                    'display.max_columns', cols):  \n",
    "        display(df)\n",
    "def select_data(spalten): \n",
    "    df2 = df.loc[:,spalten];  \n",
    "    ax = df2.plot(); \n",
    "    ax.set_ylabel('Tägl. Verbrauch (GWh)'); "
   ]
  },
  {
   "cell_type": "code",
   "execution_count": 9,
   "id": "e6402732",
   "metadata": {
    "tags": []
   },
   "outputs": [
    {
     "data": {
      "application/vnd.jupyter.widget-view+json": {
       "model_id": "17922ff5bf174a4f983ccec1ec495952",
       "version_major": 2,
       "version_minor": 0
      },
      "text/plain": [
       "Tab(children=(Output(), Output()), layout=Layout(width='70%'), selected_index=0, titles=('Daten', 'Grafik'))"
      ]
     },
     "metadata": {},
     "output_type": "display_data"
    }
   ],
   "source": [
    "out1, out2 = widgets.Output(), widgets.Output()\n",
    "with out1:\n",
    "    file = 'opsd_2018.csv'\n",
    "    df = pd.read_csv(file, header=0, sep = \",\", index_col=0, parse_dates=True) \n",
    "    display_dataframe(df)\n",
    "with out2: \n",
    "    ui_spalten = widgets.Dropdown(description='Auswahl:', \n",
    "                                  options=df.columns[0:], value='Verbrauch', \n",
    "                                  layout=Layout(width='auto'))\n",
    "    out = widgets.interactive_output(select_data, {'spalten': ui_spalten}); \n",
    "    display(widgets.VBox([ui_spalten, out]))\n",
    "    \n",
    "tab = widgets.Tab(children = [out1, out2], layout=Layout(width='70%'))\n",
    "tab.set_title(0, 'Daten')\n",
    "tab.set_title(1, 'Grafik')\n",
    "display(tab)"
   ]
  },
  {
   "cell_type": "code",
   "execution_count": 10,
   "id": "2da19937",
   "metadata": {
    "tags": []
   },
   "outputs": [
    {
     "ename": "NameError",
     "evalue": "name 'VBox' is not defined",
     "output_type": "error",
     "traceback": [
      "\u001b[0;31m---------------------------------------------------------------------------\u001b[0m",
      "\u001b[0;31mNameError\u001b[0m                                 Traceback (most recent call last)",
      "Cell \u001b[0;32mIn[10], line 7\u001b[0m\n\u001b[1;32m      5\u001b[0m ui_xmax \u001b[38;5;241m=\u001b[39m widgets\u001b[38;5;241m.\u001b[39mFloatSlider(description\u001b[38;5;241m=\u001b[39m\u001b[38;5;124m'\u001b[39m\u001b[38;5;124mxmax\u001b[39m\u001b[38;5;124m'\u001b[39m, value\u001b[38;5;241m=\u001b[39m\u001b[38;5;241m10\u001b[39m, \u001b[38;5;28mmin\u001b[39m\u001b[38;5;241m=\u001b[39mpi\u001b[38;5;241m/\u001b[39m\u001b[38;5;241m2\u001b[39m, \u001b[38;5;28mmax\u001b[39m\u001b[38;5;241m=\u001b[39m\u001b[38;5;241m2\u001b[39m\u001b[38;5;241m*\u001b[39mpi);\n\u001b[1;32m      6\u001b[0m out \u001b[38;5;241m=\u001b[39m widgets\u001b[38;5;241m.\u001b[39minteractive_output(myplot, {\u001b[38;5;124m'\u001b[39m\u001b[38;5;124mxmax\u001b[39m\u001b[38;5;124m'\u001b[39m: ui_xmax}); \n\u001b[0;32m----> 7\u001b[0m display(\u001b[43mVBox\u001b[49m([ui_xmax,out], layout\u001b[38;5;241m=\u001b[39mLayout(width\u001b[38;5;241m=\u001b[39m\u001b[38;5;124m'\u001b[39m\u001b[38;5;124m50\u001b[39m\u001b[38;5;124m%\u001b[39m\u001b[38;5;124m'\u001b[39m,border\u001b[38;5;241m=\u001b[39m\u001b[38;5;124m'\u001b[39m\u001b[38;5;124m1px dotted blue\u001b[39m\u001b[38;5;124m'\u001b[39m)))\n",
      "\u001b[0;31mNameError\u001b[0m: name 'VBox' is not defined"
     ]
    }
   ],
   "source": [
    "def myplot(xmax):\n",
    "     x = arange(0, xmax, 0.01)\n",
    "     y = sin(2*pi*x)\n",
    "     plt.plot(x,y)\n",
    "ui_xmax = widgets.FloatSlider(description='xmax', value=10, min=pi/2, max=2*pi);\n",
    "out = widgets.interactive_output(myplot, {'xmax': ui_xmax}); \n",
    "display(VBox([ui_xmax,out], layout=Layout(width='50%',border='1px dotted blue')))"
   ]
  },
  {
   "cell_type": "code",
   "execution_count": null,
   "id": "a97b3147",
   "metadata": {
    "tags": []
   },
   "outputs": [],
   "source": [
    "import pandas as pd\n",
    "import ipywidgets as widgets\n",
    "def display_dataframe(df, rows=6, cols=6):\n",
    "  with pd.option_context('display.max_rows', rows, \n",
    "                         'display.max_columns', cols):  \n",
    "                         display(df)\n",
    "def select_data(spalten): \n",
    "    df2 = df.loc[:,spalten];  \n",
    "    ax = df2.plot(); \n",
    "    ax.set_ylabel('Tägl. Verbrauch (GWh)'); "
   ]
  },
  {
   "cell_type": "code",
   "execution_count": null,
   "id": "f8c348f1",
   "metadata": {
    "tags": []
   },
   "outputs": [],
   "source": [
    "from ipywidgets import Output, Layout, Dropdown, Tab, VBox\n",
    "from ipywidgets import interactive_output\n",
    "out1, out2 = Output(), Output()\n",
    "with out1:\n",
    "  file = 'https://elab2go.de/demo-py5/opsd_2018.csv'\n",
    "  df = pd.read_csv(file, header=0, sep = \",\", \n",
    "                   index_col=0, parse_dates=True) \n",
    "  display_dataframe(df)\n",
    "with out2: \n",
    "  ui_spalten = Dropdown(description='Auswahl:', \n",
    "                        options=df.columns[0:], value='Verbrauch', \n",
    "                        layout=Layout(width='auto'))\n",
    "  out = interactive_output(select_data, {'spalten': ui_spalten}); \n",
    "  display(VBox([ui_spalten, out]))\n",
    "    \n",
    "tab = Tab(children = [out1, out2], \n",
    "          layout=Layout(width='70%'))\n",
    "tab.set_title(0, 'Daten')\n",
    "tab.set_title(1, 'Grafik')\n",
    "display(tab)"
   ]
  },
  {
   "cell_type": "code",
   "execution_count": null,
   "id": "e7b4c44b",
   "metadata": {
    "tags": []
   },
   "outputs": [],
   "source": [
    "from ipyleaflet import Map, basemaps, basemap_to_tiles\n",
    "\n",
    "lat = 48\n",
    "long = 350\n",
    "\n",
    "print(\"title=\", f\"World Map at {lat}, {long}\")\n",
    "\n",
    "Map(basemap=basemap_to_tiles(basemaps.OpenStreetMap.Mapnik),\n",
    "    center=(lat, long), zoom=2)"
   ]
  }
 ],
 "metadata": {
  "kernelspec": {
   "display_name": "Python 3 (ipykernel)",
   "language": "python",
   "name": "python3"
  },
  "language_info": {
   "codemirror_mode": {
    "name": "ipython",
    "version": 3
   },
   "file_extension": ".py",
   "mimetype": "text/x-python",
   "name": "python",
   "nbconvert_exporter": "python",
   "pygments_lexer": "ipython3",
   "version": "3.9.17"
  }
 },
 "nbformat": 4,
 "nbformat_minor": 5
}
